{
 "cells": [
  {
   "cell_type": "code",
   "execution_count": 4,
   "id": "61d01e91-153f-457d-adb7-262bbc01d2a8",
   "metadata": {},
   "outputs": [
    {
     "data": {
      "text/plain": [
       "{'Chicargo': 30, 'New York': 3.44, 'LA': 6}"
      ]
     },
     "execution_count": 4,
     "metadata": {},
     "output_type": "execute_result"
    }
   ],
   "source": [
    "city_pop={\n",
    "    \"Chicargo\":30,\n",
    "    \"New York\":3.44,\n",
    "    \"LA\":6\n",
    "}\n",
    "\n",
    "city_pop"
   ]
  },
  {
   "cell_type": "code",
   "execution_count": 5,
   "id": "f1815765-5d8b-41d8-a77b-278641d7d563",
   "metadata": {},
   "outputs": [
    {
     "ename": "KeyError",
     "evalue": "1",
     "output_type": "error",
     "traceback": [
      "\u001b[1;31m---------------------------------------------------------------------------\u001b[0m",
      "\u001b[1;31mKeyError\u001b[0m                                  Traceback (most recent call last)",
      "Cell \u001b[1;32mIn[5], line 1\u001b[0m\n\u001b[1;32m----> 1\u001b[0m city_pop[\u001b[38;5;241m1\u001b[39m]\n",
      "\u001b[1;31mKeyError\u001b[0m: 1"
     ]
    }
   ],
   "source": [
    "city_pop[1]"
   ]
  },
  {
   "cell_type": "code",
   "execution_count": 6,
   "id": "88c07431-b71d-49fd-86e4-5d5b755b376d",
   "metadata": {},
   "outputs": [
    {
     "data": {
      "text/plain": [
       "6"
      ]
     },
     "execution_count": 6,
     "metadata": {},
     "output_type": "execute_result"
    }
   ],
   "source": [
    "city_pop[\"LA\"]"
   ]
  },
  {
   "cell_type": "code",
   "execution_count": 7,
   "id": "4b84a23a-95d9-426a-9074-8f0f6f98fa96",
   "metadata": {},
   "outputs": [
    {
     "data": {
      "text/plain": [
       "3.44"
      ]
     },
     "execution_count": 7,
     "metadata": {},
     "output_type": "execute_result"
    }
   ],
   "source": [
    "city_pop[\"New York\"]"
   ]
  },
  {
   "cell_type": "code",
   "execution_count": 8,
   "id": "59463038-af1f-4aea-96c6-330a4afe7574",
   "metadata": {},
   "outputs": [
    {
     "data": {
      "text/plain": [
       "dict_keys(['Chicargo', 'New York', 'LA'])"
      ]
     },
     "execution_count": 8,
     "metadata": {},
     "output_type": "execute_result"
    }
   ],
   "source": [
    "city_pop.keys()"
   ]
  },
  {
   "cell_type": "code",
   "execution_count": 9,
   "id": "b1b80c00-e204-463e-aeee-7a6c41ecf929",
   "metadata": {},
   "outputs": [
    {
     "data": {
      "text/plain": [
       "dict_values([30, 3.44, 6])"
      ]
     },
     "execution_count": 9,
     "metadata": {},
     "output_type": "execute_result"
    }
   ],
   "source": [
    "city_pop.values()"
   ]
  },
  {
   "cell_type": "code",
   "execution_count": 10,
   "id": "dfb941ea-9b75-4f5a-aefa-cec6c285ee73",
   "metadata": {},
   "outputs": [
    {
     "data": {
      "text/plain": [
       "dict_items([('Chicargo', 30), ('New York', 3.44), ('LA', 6)])"
      ]
     },
     "execution_count": 10,
     "metadata": {},
     "output_type": "execute_result"
    }
   ],
   "source": [
    "city_pop.items()\n"
   ]
  },
  {
   "cell_type": "code",
   "execution_count": 11,
   "id": "2c1e4788-0b82-48a1-9213-359d906e22b6",
   "metadata": {},
   "outputs": [
    {
     "data": {
      "text/plain": [
       "True"
      ]
     },
     "execution_count": 11,
     "metadata": {},
     "output_type": "execute_result"
    }
   ],
   "source": [
    "\"LA\" in city_pop"
   ]
  },
  {
   "cell_type": "code",
   "execution_count": 12,
   "id": "bdcf031b-4d4f-470c-92f7-2dd59a80d5d4",
   "metadata": {},
   "outputs": [
    {
     "data": {
      "text/plain": [
       "False"
      ]
     },
     "execution_count": 12,
     "metadata": {},
     "output_type": "execute_result"
    }
   ],
   "source": [
    "\"Kathmandu\" in city_pop"
   ]
  },
  {
   "cell_type": "code",
   "execution_count": 13,
   "id": "27120851-9874-486b-80f3-38211a7ee3f3",
   "metadata": {},
   "outputs": [
    {
     "data": {
      "text/plain": [
       "{'Chicargo': 30, 'New York': 3.44, 'LA': 300}"
      ]
     },
     "execution_count": 13,
     "metadata": {},
     "output_type": "execute_result"
    }
   ],
   "source": [
    "city_pop[\"LA\"]=300 #to update values in dictionary\n",
    "city_pop"
   ]
  },
  {
   "cell_type": "code",
   "execution_count": 14,
   "id": "1fde4b33-d054-4747-a3ca-482ebf0c8bd9",
   "metadata": {},
   "outputs": [
    {
     "data": {
      "text/plain": [
       "{'Chicargo': 30, 'New York': 3.44, 'LA': 300, 'Kathmandu': 3.4}"
      ]
     },
     "execution_count": 14,
     "metadata": {},
     "output_type": "execute_result"
    }
   ],
   "source": [
    "city_pop[\"Kathmandu\"]=3.4 #to add new value in dictionary\n",
    "city_pop"
   ]
  },
  {
   "cell_type": "code",
   "execution_count": 15,
   "id": "9e0e7c0e-996a-456a-adee-aeca5880a560",
   "metadata": {},
   "outputs": [
    {
     "data": {
      "text/plain": [
       "{'Chicargo': 30, 'New York': 3.44, 'Kathmandu': 3.4}"
      ]
     },
     "execution_count": 15,
     "metadata": {},
     "output_type": "execute_result"
    }
   ],
   "source": [
    "city_pop.pop(\"LA\") #deletes key and value from the dictionary\n",
    "city_pop"
   ]
  },
  {
   "cell_type": "code",
   "execution_count": 17,
   "id": "91a23456-f4e8-4a82-9126-12de194d82ad",
   "metadata": {},
   "outputs": [
    {
     "data": {
      "text/plain": [
       "{}"
      ]
     },
     "execution_count": 17,
     "metadata": {},
     "output_type": "execute_result"
    }
   ],
   "source": [
    "city_pop.clear() #function cleards the dictionary\n",
    "city_pop"
   ]
  },
  {
   "cell_type": "markdown",
   "id": "7253d1b1-aefb-45c3-b64a-b828b7f4180d",
   "metadata": {},
   "source": [
    "#OOP"
   ]
  },
  {
   "cell_type": "code",
   "execution_count": 18,
   "id": "6540fe68-627f-4c58-ba5d-376b0d4b7e1f",
   "metadata": {},
   "outputs": [
    {
     "name": "stdout",
     "output_type": "stream",
     "text": [
      "<class '__main__.Student'>\n"
     ]
    }
   ],
   "source": [
    "class Student: #class name must start with an upper case letter\n",
    "    pass\n",
    "    \n",
    "\n",
    "student1=Student()\n",
    "student2=Student()\n",
    "\n",
    "print(type(student1))"
   ]
  },
  {
   "cell_type": "code",
   "execution_count": 19,
   "id": "a24da384-b2f0-4f81-a367-e5d199c84461",
   "metadata": {},
   "outputs": [
    {
     "name": "stdout",
     "output_type": "stream",
     "text": [
      "2441252499488\n"
     ]
    }
   ],
   "source": [
    "print(id(student1))"
   ]
  },
  {
   "cell_type": "code",
   "execution_count": 20,
   "id": "c5c0a9c7-7140-416e-8e04-35d2be1392b5",
   "metadata": {},
   "outputs": [
    {
     "name": "stdout",
     "output_type": "stream",
     "text": [
      "School of Data Science\n"
     ]
    }
   ],
   "source": [
    "class Student1:\n",
    "    school=\"School of Data Science\"\n",
    "\n",
    "student3=Student1\n",
    "print(student3.school)"
   ]
  },
  {
   "cell_type": "code",
   "execution_count": 21,
   "id": "e99b0c14-826d-4ac5-ac81-9a882747308d",
   "metadata": {},
   "outputs": [
    {
     "ename": "AttributeError",
     "evalue": "'Student' object has no attribute 'school'",
     "output_type": "error",
     "traceback": [
      "\u001b[1;31m---------------------------------------------------------------------------\u001b[0m",
      "\u001b[1;31mAttributeError\u001b[0m                            Traceback (most recent call last)",
      "Cell \u001b[1;32mIn[21], line 1\u001b[0m\n\u001b[1;32m----> 1\u001b[0m \u001b[38;5;28mprint\u001b[39m(student1\u001b[38;5;241m.\u001b[39mschool)\n",
      "\u001b[1;31mAttributeError\u001b[0m: 'Student' object has no attribute 'school'"
     ]
    }
   ],
   "source": [
    "print(student1.school)"
   ]
  },
  {
   "cell_type": "code",
   "execution_count": 22,
   "id": "06dad5a8-d1b7-48be-9b96-435becbedc50",
   "metadata": {},
   "outputs": [
    {
     "name": "stdout",
     "output_type": "stream",
     "text": [
      "School of Data Science\n"
     ]
    }
   ],
   "source": [
    "student4=Student1\n",
    "print(student4.school)"
   ]
  },
  {
   "cell_type": "code",
   "execution_count": 39,
   "id": "febd0cc6-a9e6-4986-a5fb-1c2ca014c0cd",
   "metadata": {},
   "outputs": [],
   "source": [
    "# __init__ and self indicate constructor. 'self' defines the class itself\n",
    "\n",
    "class Student2:\n",
    "    #constructor\n",
    "    def __init__(self, name, level):\n",
    "        #instance variable\n",
    "        self.name = name\n",
    "        self.level = level\n",
    "\n"
   ]
  },
  {
   "cell_type": "code",
   "execution_count": 40,
   "id": "707fbca1-a052-4c6d-8c1a-18e3a62d2ef6",
   "metadata": {},
   "outputs": [],
   "source": [
    "student7=Student2(\"manish\",3)"
   ]
  },
  {
   "cell_type": "code",
   "execution_count": 44,
   "id": "c27418a6-4fbb-496c-b7c1-a0b7611aabac",
   "metadata": {},
   "outputs": [
    {
     "name": "stdout",
     "output_type": "stream",
     "text": [
      "Manish is in level 3\n",
      "Manish is in level 4\n"
     ]
    }
   ],
   "source": [
    "class Student4:\n",
    "    # Constructor\n",
    "    def __init__(self, name, level):\n",
    "        # Instance variables\n",
    "        self.name = name\n",
    "        self.level = level\n",
    "\n",
    "    def __str__(self):\n",
    "        return f'{self.name} is in level {self.level}'\n",
    "        \n",
    "    def levelup(self):\n",
    "        self.level+=1\n",
    "\n",
    "\n",
    "student7=Student4(\"Manish\",3)\n",
    "\n",
    "print(student7)\n",
    "\n",
    "student7.levelup()\n",
    "\n",
    "print(student7)"
   ]
  },
  {
   "cell_type": "code",
   "execution_count": null,
   "id": "955a46b9-8c04-411a-88de-fad58431c955",
   "metadata": {},
   "outputs": [],
   "source": [
    "# __str__"
   ]
  }
 ],
 "metadata": {
  "kernelspec": {
   "display_name": "Python 3 (ipykernel)",
   "language": "python",
   "name": "python3"
  },
  "language_info": {
   "codemirror_mode": {
    "name": "ipython",
    "version": 3
   },
   "file_extension": ".py",
   "mimetype": "text/x-python",
   "name": "python",
   "nbconvert_exporter": "python",
   "pygments_lexer": "ipython3",
   "version": "3.12.4"
  }
 },
 "nbformat": 4,
 "nbformat_minor": 5
}
