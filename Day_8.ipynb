{
 "cells": [
  {
   "cell_type": "code",
   "execution_count": 7,
   "id": "4bb0f2c6-d5fd-409c-b51d-2cee71d2bc73",
   "metadata": {},
   "outputs": [
    {
     "data": {
      "text/plain": [
       "array([5, 0, 3, 3, 7, 9])"
      ]
     },
     "execution_count": 7,
     "metadata": {},
     "output_type": "execute_result"
    }
   ],
   "source": [
    "import numpy as np\n",
    "\n",
    "np.random.seed(0) #seed fixes the random number that has been generated.\n",
    "\n",
    "x1=np.random.randint(10, size=6)\n",
    "\n",
    "x2=np.random.randint(10, size=(4,3))\n",
    "\n",
    "x3=np.random.randint(10, size=(2,3,4))\n",
    "\n",
    "x1"
   ]
  },
  {
   "cell_type": "code",
   "execution_count": 10,
   "id": "c4709c24-ac10-4585-8de6-7bd2784b95d6",
   "metadata": {},
   "outputs": [
    {
     "name": "stdout",
     "output_type": "stream",
     "text": [
      "1\n",
      "2\n",
      "3\n"
     ]
    }
   ],
   "source": [
    "#ndim shows the array dimention\n",
    "print(x1.ndim)\n",
    "\n",
    "print(x2.ndim)\n",
    "\n",
    "print(x3.ndim)"
   ]
  },
  {
   "cell_type": "code",
   "execution_count": 13,
   "id": "0e76a49d-f222-4994-b544-80102b5f6c9d",
   "metadata": {},
   "outputs": [
    {
     "name": "stdout",
     "output_type": "stream",
     "text": [
      "(6,)\n",
      "(4, 3)\n",
      "(2, 3, 4)\n"
     ]
    }
   ],
   "source": [
    "#shape: shows the no. of rows and columns\n",
    "\n",
    "print(x1.shape)\n",
    "\n",
    "print(x2.shape)\n",
    "\n",
    "print(x3.shape)"
   ]
  },
  {
   "cell_type": "code",
   "execution_count": 15,
   "id": "a5d34fa4-7a62-46cc-b22f-a353e0b61fd5",
   "metadata": {},
   "outputs": [
    {
     "name": "stdout",
     "output_type": "stream",
     "text": [
      "6\n",
      "12\n",
      "24\n"
     ]
    }
   ],
   "source": [
    "#size: shows the number of eleents\n",
    "print(x1.size)\n",
    "\n",
    "print(x2.size)\n",
    "\n",
    "print(x3.size)"
   ]
  },
  {
   "cell_type": "code",
   "execution_count": 18,
   "id": "83891a8c-7eaf-4d70-ab76-beffc442774e",
   "metadata": {},
   "outputs": [
    {
     "data": {
      "text/plain": [
       "dtype('int32')"
      ]
     },
     "execution_count": 18,
     "metadata": {},
     "output_type": "execute_result"
    }
   ],
   "source": [
    "x1.dtype\n",
    "x2.dtype  #checks the data type of variabel #once created with the 'np' suffix the variabele is associated with the numpy library"
   ]
  },
  {
   "cell_type": "code",
   "execution_count": 19,
   "id": "06129a0a-9c45-48a8-b2dc-099902b68834",
   "metadata": {},
   "outputs": [
    {
     "name": "stdout",
     "output_type": "stream",
     "text": [
      "x1. itemsize= 4\n",
      "x1. itembyte= 24\n"
     ]
    }
   ],
   "source": [
    "print(\"x1. itemsize=\", x1.itemsize)\n",
    "\n",
    "print(\"x1. itembyte=\", x1.nbytes)"
   ]
  },
  {
   "cell_type": "code",
   "execution_count": 20,
   "id": "988275a7-b10b-47ac-badf-2e7a56c9e4ec",
   "metadata": {},
   "outputs": [
    {
     "name": "stdout",
     "output_type": "stream",
     "text": [
      "3\n"
     ]
    }
   ],
   "source": [
    "print(x1[3])"
   ]
  },
  {
   "cell_type": "code",
   "execution_count": 21,
   "id": "39b436a0-1d9b-4e8a-8b1f-e39e7786c915",
   "metadata": {},
   "outputs": [
    {
     "name": "stdout",
     "output_type": "stream",
     "text": [
      "[[[8 1 5 9]\n",
      "  [8 9 4 3]\n",
      "  [0 3 5 0]]\n",
      "\n",
      " [[2 3 8 1]\n",
      "  [3 3 3 7]\n",
      "  [0 1 9 9]]]\n"
     ]
    }
   ],
   "source": [
    "print(x3)"
   ]
  },
  {
   "cell_type": "code",
   "execution_count": 22,
   "id": "5b0aaa77-1959-4f39-a6e8-60520acb3845",
   "metadata": {},
   "outputs": [
    {
     "name": "stdout",
     "output_type": "stream",
     "text": [
      "[[3 5 2]\n",
      " [4 7 6]\n",
      " [8 8 1]\n",
      " [6 7 7]]\n"
     ]
    }
   ],
   "source": [
    "print(x2)"
   ]
  },
  {
   "cell_type": "code",
   "execution_count": 24,
   "id": "229af5f6-8b30-4caa-a52f-59053fe266ae",
   "metadata": {},
   "outputs": [
    {
     "name": "stdout",
     "output_type": "stream",
     "text": [
      "8\n"
     ]
    }
   ],
   "source": [
    "print(x2[2,1])"
   ]
  },
  {
   "cell_type": "code",
   "execution_count": 27,
   "id": "e63f0287-7192-48c6-bd2d-104c7523782b",
   "metadata": {},
   "outputs": [
    {
     "name": "stdout",
     "output_type": "stream",
     "text": [
      "[3 3 3 7]\n"
     ]
    }
   ],
   "source": [
    "print(x3[1,1])"
   ]
  },
  {
   "cell_type": "code",
   "execution_count": 28,
   "id": "451ed795-4dd0-43c4-a68e-ea791bfb7c00",
   "metadata": {},
   "outputs": [
    {
     "name": "stdout",
     "output_type": "stream",
     "text": [
      "3\n"
     ]
    }
   ],
   "source": [
    "print(x2[0,0])"
   ]
  },
  {
   "cell_type": "code",
   "execution_count": 29,
   "id": "33a6cfad-a564-4cae-bab9-44376732009d",
   "metadata": {},
   "outputs": [
    {
     "name": "stdout",
     "output_type": "stream",
     "text": [
      "1\n"
     ]
    }
   ],
   "source": [
    "print(x2[2,-1])"
   ]
  },
  {
   "cell_type": "code",
   "execution_count": 30,
   "id": "f1a5e3db-e205-480b-831e-81058ef3a6fc",
   "metadata": {},
   "outputs": [
    {
     "name": "stdout",
     "output_type": "stream",
     "text": [
      "[[ 3  5  2]\n",
      " [ 4  7 33]\n",
      " [ 8  8  1]\n",
      " [ 6  7  7]]\n"
     ]
    }
   ],
   "source": [
    "x2[1,2]=33\n",
    "print(x2)"
   ]
  },
  {
   "cell_type": "code",
   "execution_count": 32,
   "id": "f40bc253-53dc-4a21-83a2-e6e3e88b59c9",
   "metadata": {},
   "outputs": [
    {
     "name": "stdout",
     "output_type": "stream",
     "text": [
      "[0 1 2 3 4 5 6 7 8 9]\n"
     ]
    }
   ],
   "source": [
    "x=np.arange(10)\n",
    "print(x)"
   ]
  },
  {
   "cell_type": "code",
   "execution_count": 35,
   "id": "0dd5d895-17d3-4265-8afd-7ac31a086998",
   "metadata": {},
   "outputs": [
    {
     "name": "stdout",
     "output_type": "stream",
     "text": [
      "x[7:3:-1]=  [7 6 5 4]\n"
     ]
    }
   ],
   "source": [
    "print(\"x[7:3:-1]= \",x[7:3:-1])  #-1 gives reverse order"
   ]
  },
  {
   "cell_type": "code",
   "execution_count": 36,
   "id": "d260fe52-d196-4624-86c9-0a436a65a2e0",
   "metadata": {},
   "outputs": [
    {
     "name": "stdout",
     "output_type": "stream",
     "text": [
      "[[ 3  5  2]\n",
      " [ 4  7 33]\n",
      " [ 8  8  1]\n",
      " [ 6  7  7]]\n"
     ]
    }
   ],
   "source": [
    "print(x2)"
   ]
  },
  {
   "cell_type": "code",
   "execution_count": 37,
   "id": "ee43c26d-17e6-4f5d-951a-eea1c3b87175",
   "metadata": {},
   "outputs": [
    {
     "name": "stdout",
     "output_type": "stream",
     "text": [
      "[[3 5]\n",
      " [4 7]\n",
      " [8 8]]\n"
     ]
    }
   ],
   "source": [
    "print(x2[:3,:2])"
   ]
  },
  {
   "cell_type": "code",
   "execution_count": 42,
   "id": "18a499a4-f135-4305-936c-fd792117950b",
   "metadata": {},
   "outputs": [
    {
     "name": "stdout",
     "output_type": "stream",
     "text": [
      "[[3 2]\n",
      " [8 1]]\n"
     ]
    }
   ],
   "source": [
    "print(x2[::2,::2])"
   ]
  },
  {
   "cell_type": "code",
   "execution_count": 43,
   "id": "02003327-80f5-49ac-a803-1fb838360fe3",
   "metadata": {},
   "outputs": [
    {
     "name": "stdout",
     "output_type": "stream",
     "text": [
      "[5 7 8 7]\n"
     ]
    }
   ],
   "source": [
    "print(x2[:,1])"
   ]
  },
  {
   "cell_type": "code",
   "execution_count": 44,
   "id": "d09fc951-fc23-47f0-bf83-d76e4383fd5b",
   "metadata": {},
   "outputs": [],
   "source": [
    "#RESHAPING ARRAY\n",
    "#While reshaping the data to be reshaped must the size of the new array"
   ]
  },
  {
   "cell_type": "code",
   "execution_count": 50,
   "id": "f113a8b0-d911-4b95-991d-751671478df9",
   "metadata": {},
   "outputs": [
    {
     "data": {
      "text/plain": [
       "array([1, 2, 3, 4, 5, 6, 7, 8, 9])"
      ]
     },
     "execution_count": 50,
     "metadata": {},
     "output_type": "execute_result"
    }
   ],
   "source": [
    "z=np.arange(1,10)\n",
    "\n",
    "z"
   ]
  },
  {
   "cell_type": "code",
   "execution_count": 51,
   "id": "64535033-b3ea-4c40-a249-7d7dd4dd37b1",
   "metadata": {},
   "outputs": [
    {
     "name": "stdout",
     "output_type": "stream",
     "text": [
      "1\n"
     ]
    }
   ],
   "source": [
    "print(z.ndim)"
   ]
  },
  {
   "cell_type": "code",
   "execution_count": 52,
   "id": "72bf87c2-21e6-4fd7-af7e-adb71f23fb24",
   "metadata": {},
   "outputs": [
    {
     "name": "stdout",
     "output_type": "stream",
     "text": [
      "[[1 2 3]\n",
      " [4 5 6]\n",
      " [7 8 9]]\n"
     ]
    }
   ],
   "source": [
    "y=z.reshape((3,3))\n",
    "\n",
    "print(y)"
   ]
  },
  {
   "cell_type": "code",
   "execution_count": 53,
   "id": "cebfd378-16f4-497b-b717-8508a94c9c04",
   "metadata": {},
   "outputs": [
    {
     "name": "stdout",
     "output_type": "stream",
     "text": [
      "2\n"
     ]
    }
   ],
   "source": [
    "print(y.ndim)"
   ]
  },
  {
   "cell_type": "code",
   "execution_count": 54,
   "id": "d3fcb786-9cc8-47dc-a870-0d56c0b0fe57",
   "metadata": {},
   "outputs": [
    {
     "ename": "ValueError",
     "evalue": "cannot reshape array of size 9 into shape (4,4)",
     "output_type": "error",
     "traceback": [
      "\u001b[1;31m---------------------------------------------------------------------------\u001b[0m",
      "\u001b[1;31mValueError\u001b[0m                                Traceback (most recent call last)",
      "Cell \u001b[1;32mIn[54], line 1\u001b[0m\n\u001b[1;32m----> 1\u001b[0m x\u001b[38;5;241m=\u001b[39mz\u001b[38;5;241m.\u001b[39mreshape(\u001b[38;5;241m4\u001b[39m,\u001b[38;5;241m4\u001b[39m)\n",
      "\u001b[1;31mValueError\u001b[0m: cannot reshape array of size 9 into shape (4,4)"
     ]
    }
   ],
   "source": [
    "x=z.reshape(4,4)"
   ]
  },
  {
   "cell_type": "code",
   "execution_count": 55,
   "id": "26c536f1-68c9-41ad-8ca2-aa5da8be1c54",
   "metadata": {},
   "outputs": [
    {
     "data": {
      "text/plain": [
       "array([1, 2, 3, 4, 5, 6])"
      ]
     },
     "execution_count": 55,
     "metadata": {},
     "output_type": "execute_result"
    }
   ],
   "source": [
    "x=np.array([1,2,3])\n",
    "y=np.array([4,5,6])\n",
    "z=np.array([7,8,9])\n",
    "\n",
    "np.concatenate([x,y])\n",
    "\n"
   ]
  },
  {
   "cell_type": "code",
   "execution_count": 56,
   "id": "ba06c419-aae7-46f0-9af1-b1c91ded0841",
   "metadata": {},
   "outputs": [
    {
     "data": {
      "text/plain": [
       "array([1, 2, 3, 4, 5, 6, 7, 8, 9])"
      ]
     },
     "execution_count": 56,
     "metadata": {},
     "output_type": "execute_result"
    }
   ],
   "source": [
    "np.concatenate([x,y,z])"
   ]
  },
  {
   "cell_type": "code",
   "execution_count": 59,
   "id": "1eaf2339-07eb-44f5-bedc-54f043393640",
   "metadata": {},
   "outputs": [
    {
     "data": {
      "text/plain": [
       "array([[2, 3, 4],\n",
       "       [5, 6, 7],\n",
       "       [2, 3, 4],\n",
       "       [5, 6, 7]])"
      ]
     },
     "execution_count": 59,
     "metadata": {},
     "output_type": "execute_result"
    }
   ],
   "source": [
    "arr2d=np.array([\n",
    "                [2,3,4],\n",
    "               [5,6,7]\n",
    "                ])\n",
    "\n",
    "np.concatenate([arr2d,arr2d]) #by default the concatinate method adds rows\n"
   ]
  },
  {
   "cell_type": "code",
   "execution_count": 61,
   "id": "c6969f99-7fea-4da5-85c8-c67e050ec0b9",
   "metadata": {},
   "outputs": [
    {
     "data": {
      "text/plain": [
       "array([[2, 3, 4, 2, 3, 4],\n",
       "       [5, 6, 7, 5, 6, 7]])"
      ]
     },
     "execution_count": 61,
     "metadata": {},
     "output_type": "execute_result"
    }
   ],
   "source": [
    "np.concatenate([arr2d,arr2d],axis=1) # need to define \"axis\" value to show where to add while joining arrays"
   ]
  },
  {
   "cell_type": "code",
   "execution_count": 62,
   "id": "43967626-c22c-4226-bbaf-c971f340a930",
   "metadata": {},
   "outputs": [
    {
     "data": {
      "text/plain": [
       "array([[1, 2, 3],\n",
       "       [2, 3, 4],\n",
       "       [5, 6, 7]])"
      ]
     },
     "execution_count": 62,
     "metadata": {},
     "output_type": "execute_result"
    }
   ],
   "source": [
    "np.vstack([x,arr2d])"
   ]
  },
  {
   "cell_type": "code",
   "execution_count": 63,
   "id": "fdba032c-c87a-468f-91a0-012d2bb27467",
   "metadata": {},
   "outputs": [
    {
     "ename": "ValueError",
     "evalue": "all the input arrays must have same number of dimensions, but the array at index 0 has 1 dimension(s) and the array at index 1 has 2 dimension(s)",
     "output_type": "error",
     "traceback": [
      "\u001b[1;31m---------------------------------------------------------------------------\u001b[0m",
      "\u001b[1;31mValueError\u001b[0m                                Traceback (most recent call last)",
      "Cell \u001b[1;32mIn[63], line 1\u001b[0m\n\u001b[1;32m----> 1\u001b[0m np\u001b[38;5;241m.\u001b[39mhstack([x,arr2d])\n",
      "File \u001b[1;32mC:\\Anaconda\\anaconda3\\Lib\\site-packages\\numpy\\core\\shape_base.py:357\u001b[0m, in \u001b[0;36mhstack\u001b[1;34m(tup, dtype, casting)\u001b[0m\n\u001b[0;32m    355\u001b[0m \u001b[38;5;66;03m# As a special case, dimension 0 of 1-dimensional arrays is \"horizontal\"\u001b[39;00m\n\u001b[0;32m    356\u001b[0m \u001b[38;5;28;01mif\u001b[39;00m arrs \u001b[38;5;129;01mand\u001b[39;00m arrs[\u001b[38;5;241m0\u001b[39m]\u001b[38;5;241m.\u001b[39mndim \u001b[38;5;241m==\u001b[39m \u001b[38;5;241m1\u001b[39m:\n\u001b[1;32m--> 357\u001b[0m     \u001b[38;5;28;01mreturn\u001b[39;00m _nx\u001b[38;5;241m.\u001b[39mconcatenate(arrs, \u001b[38;5;241m0\u001b[39m, dtype\u001b[38;5;241m=\u001b[39mdtype, casting\u001b[38;5;241m=\u001b[39mcasting)\n\u001b[0;32m    358\u001b[0m \u001b[38;5;28;01melse\u001b[39;00m:\n\u001b[0;32m    359\u001b[0m     \u001b[38;5;28;01mreturn\u001b[39;00m _nx\u001b[38;5;241m.\u001b[39mconcatenate(arrs, \u001b[38;5;241m1\u001b[39m, dtype\u001b[38;5;241m=\u001b[39mdtype, casting\u001b[38;5;241m=\u001b[39mcasting)\n",
      "\u001b[1;31mValueError\u001b[0m: all the input arrays must have same number of dimensions, but the array at index 0 has 1 dimension(s) and the array at index 1 has 2 dimension(s)"
     ]
    }
   ],
   "source": [
    "np.hstack([x,arr2d])\n"
   ]
  },
  {
   "cell_type": "code",
   "execution_count": 65,
   "id": "5a76b0f4-101c-46e2-b589-07f109ae56ea",
   "metadata": {},
   "outputs": [
    {
     "name": "stdout",
     "output_type": "stream",
     "text": [
      "[1 2 3] [99 99] [3 2 1]\n"
     ]
    }
   ],
   "source": [
    "x=[1,2,3,99,99,3,2,1]\n",
    "x1,x2,x3=np.split(x,[3,5]) #(which array to split,[where to split])\n",
    "\n",
    "print(x1 ,x2, x3)"
   ]
  },
  {
   "cell_type": "code",
   "execution_count": 67,
   "id": "ce8cad1d-1c45-4f0e-9259-9af519b75dbb",
   "metadata": {},
   "outputs": [
    {
     "data": {
      "text/plain": [
       "[array([1, 2, 3]), array([99, 99,  3,  2,  1])]"
      ]
     },
     "execution_count": 67,
     "metadata": {},
     "output_type": "execute_result"
    }
   ],
   "source": [
    "x4=np.split(x,[3,])\n",
    "x4"
   ]
  },
  {
   "cell_type": "code",
   "execution_count": 68,
   "id": "6098242e-407b-472e-b83c-b0bbebe735e9",
   "metadata": {},
   "outputs": [],
   "source": [
    "# %timeit: shows program time "
   ]
  },
  {
   "cell_type": "code",
   "execution_count": 70,
   "id": "9f99f6a0-1522-44eb-9825-a6951837dae3",
   "metadata": {},
   "outputs": [
    {
     "name": "stdout",
     "output_type": "stream",
     "text": [
      "[0.         1.57079633 3.14159265]\n"
     ]
    }
   ],
   "source": [
    "#Trigonometric calculations\n",
    "\n",
    "theta=np.linspace(0,np.pi,3)\n",
    "print(theta)"
   ]
  },
  {
   "cell_type": "code",
   "execution_count": 73,
   "id": "3d25e523-48ff-4368-86a6-e5906f7f8c5d",
   "metadata": {},
   "outputs": [
    {
     "name": "stdout",
     "output_type": "stream",
     "text": [
      "sin(theta) =  [0.0000000e+00 1.0000000e+00 1.2246468e-16]\n",
      "cos(theta) =  [ 1.000000e+00  6.123234e-17 -1.000000e+00]\n"
     ]
    }
   ],
   "source": [
    "print(\"sin(theta) = \",np.sin(theta))\n",
    "\n",
    "print(\"cos(theta) = \",np.cos(theta))\n",
    "\n"
   ]
  },
  {
   "cell_type": "code",
   "execution_count": null,
   "id": "58a73b11-a455-4079-b436-0ee9d78ed4ae",
   "metadata": {},
   "outputs": [],
   "source": []
  }
 ],
 "metadata": {
  "kernelspec": {
   "display_name": "Python 3 (ipykernel)",
   "language": "python",
   "name": "python3"
  },
  "language_info": {
   "codemirror_mode": {
    "name": "ipython",
    "version": 3
   },
   "file_extension": ".py",
   "mimetype": "text/x-python",
   "name": "python",
   "nbconvert_exporter": "python",
   "pygments_lexer": "ipython3",
   "version": "3.12.4"
  }
 },
 "nbformat": 4,
 "nbformat_minor": 5
}
