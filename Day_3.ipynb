{
 "cells": [
  {
   "cell_type": "markdown",
   "id": "a3c3505d-b8b3-4074-b3a1-c36f35094dd9",
   "metadata": {},
   "source": [
    "#List "
   ]
  },
  {
   "cell_type": "code",
   "execution_count": 2,
   "id": "6b17b935-f736-441f-849b-b76234c63c85",
   "metadata": {},
   "outputs": [
    {
     "data": {
      "text/plain": [
       "['hello', 1, True]"
      ]
     },
     "execution_count": 2,
     "metadata": {},
     "output_type": "execute_result"
    }
   ],
   "source": [
    "my_list=[\"hello\",1,True]"
   ]
  },
  {
   "cell_type": "code",
   "execution_count": 6,
   "id": "9066d053-8b5e-444b-9f46-370d20fb3d7a",
   "metadata": {},
   "outputs": [
    {
     "data": {
      "text/plain": [
       "['Sunday', 'Monday', 'Tuesday', 'Wednesday', 'Thursday', 'Friday', 'Saturday']"
      ]
     },
     "execution_count": 6,
     "metadata": {},
     "output_type": "execute_result"
    }
   ],
   "source": [
    "days_of_week=[\"Sunday\",\"Monday\",\"Tuesday\",\"Wednesday\",\"Thursday\",\"Friday\",\"Saturday\"]\n",
    "days_of_week"
   ]
  },
  {
   "cell_type": "code",
   "execution_count": 7,
   "id": "3347eb30-6701-4da8-8541-df88991188e1",
   "metadata": {},
   "outputs": [
    {
     "data": {
      "text/plain": [
       "7"
      ]
     },
     "execution_count": 7,
     "metadata": {},
     "output_type": "execute_result"
    }
   ],
   "source": [
    "len(days_of_week)"
   ]
  },
  {
   "cell_type": "code",
   "execution_count": 8,
   "id": "92e9ce35-1573-4f58-8005-96a24d025745",
   "metadata": {},
   "outputs": [
    {
     "name": "stdout",
     "output_type": "stream",
     "text": [
      "Saturday\n"
     ]
    }
   ],
   "source": [
    "print(days_of_week[-1])"
   ]
  },
  {
   "cell_type": "code",
   "execution_count": 9,
   "id": "5d385971-ce56-487c-959b-bb4f4d0e5a6f",
   "metadata": {},
   "outputs": [
    {
     "name": "stdout",
     "output_type": "stream",
     "text": [
      "['Monday', 'Tuesday', 'Wednesday']\n",
      "['Sunday', 'Monday', 'Tuesday', 'Wednesday', 'Thursday', 'Friday', 'Saturday']\n"
     ]
    }
   ],
   "source": [
    "#Ranged of indexes: list slicing\n",
    "days_of_week_0_3=days_of_week[1:4] #Start from index 1 to index 3(4-1)\n",
    "print(days_of_week_0_3)\n",
    "print(days_of_week)"
   ]
  },
  {
   "cell_type": "code",
   "execution_count": 12,
   "id": "9010141d-db31-4a71-b142-dd79354d821f",
   "metadata": {},
   "outputs": [
    {
     "name": "stdout",
     "output_type": "stream",
     "text": [
      "['Sunday', 'Monday', 'Tuesday']\n",
      "['Thursday', 'Friday', 'Saturday']\n"
     ]
    }
   ],
   "source": [
    "days_of_weeks=days_of_week[:3]#if no starting index start from 0 index\n",
    "print(days_of_weeks)\n",
    "days_of_week5=days_of_week[4:]#no ending index , start from the mentioned index and go to the end\n",
    "print(days_of_week5)"
   ]
  },
  {
   "cell_type": "code",
   "execution_count": 14,
   "id": "db048d3b-ab71-4eb6-aeb2-3e2c38ee6c3a",
   "metadata": {},
   "outputs": [
    {
     "data": {
      "text/plain": [
       "False"
      ]
     },
     "execution_count": 14,
     "metadata": {},
     "output_type": "execute_result"
    }
   ],
   "source": [
    "'Saturday' in days_of_week\n",
    "'monday' in days_of_week"
   ]
  },
  {
   "cell_type": "code",
   "execution_count": 15,
   "id": "70a23eed-d224-4a61-8896-00819e0206b2",
   "metadata": {},
   "outputs": [
    {
     "data": {
      "text/plain": [
       "['Sunday', 'Mon', 'Tuesday', 'Wednesday', 'Thursday', 'Friday', 'Saturday']"
      ]
     },
     "execution_count": 15,
     "metadata": {},
     "output_type": "execute_result"
    }
   ],
   "source": [
    "days_of_week[1]=\"Mon\"\n",
    "days_of_week"
   ]
  },
  {
   "cell_type": "code",
   "execution_count": 17,
   "id": "e3274a0f-8a72-4a66-8c98-1f43b0789413",
   "metadata": {},
   "outputs": [
    {
     "name": "stdout",
     "output_type": "stream",
     "text": [
      "Sunday\n",
      "Mon\n",
      "Tuesday\n",
      "Wednesday\n",
      "Thursday\n",
      "Friday\n",
      "Saturday\n"
     ]
    }
   ],
   "source": [
    "for x in days_of_week:\n",
    "    print(x)"
   ]
  },
  {
   "cell_type": "code",
   "execution_count": 20,
   "id": "8a9c714a-0854-4cd6-a7a7-a3c6331a6a22",
   "metadata": {},
   "outputs": [
    {
     "data": {
      "text/plain": [
       "['Sunday', 'Mon', 'Tue', 'Wed', 'Wednesday', 'Thursday', 'Friday', 'Saturday']"
      ]
     },
     "execution_count": 20,
     "metadata": {},
     "output_type": "execute_result"
    }
   ],
   "source": [
    "days_of_week[2:4]=[\"Tue\",\"Wed\"]\n",
    "days_of_week"
   ]
  },
  {
   "cell_type": "code",
   "execution_count": 21,
   "id": "81ee959a-9f3d-4927-8fe9-fd0c0dda126e",
   "metadata": {},
   "outputs": [
    {
     "data": {
      "text/plain": [
       "['Sunday',\n",
       " 'Mon',\n",
       " 'tuesday',\n",
       " 'Wed',\n",
       " 'Wednesday',\n",
       " 'Thursday',\n",
       " 'Friday',\n",
       " 'Saturday']"
      ]
     },
     "execution_count": 21,
     "metadata": {},
     "output_type": "execute_result"
    }
   ],
   "source": [
    "days_of_week[2:3]=[\"tuesday\"]\n",
    "days_of_week"
   ]
  },
  {
   "cell_type": "code",
   "execution_count": 26,
   "id": "16c75cc6-c1d9-4234-a3f5-912dfbf4bf4a",
   "metadata": {},
   "outputs": [
    {
     "data": {
      "text/plain": [
       "['Sunday', 'Mon', 'tuesday', 'Wed', 'Thursday', 'Sat']"
      ]
     },
     "execution_count": 26,
     "metadata": {},
     "output_type": "execute_result"
    }
   ],
   "source": [
    "del days_of_week[4]\n",
    "days_of_week\n",
    "days_of_week[4]=\"Thursday\"\n",
    "days_of_week"
   ]
  },
  {
   "cell_type": "code",
   "execution_count": 29,
   "id": "4b7b2647-8380-4539-b416-d850230024bc",
   "metadata": {},
   "outputs": [
    {
     "data": {
      "text/plain": [
       "['Sunday', 'Mon', 'tuesday', 'Wed', 'Thursday', 'Fri', 'Sat', 'Sat']"
      ]
     },
     "execution_count": 29,
     "metadata": {},
     "output_type": "execute_result"
    }
   ],
   "source": [
    "days_of_week[5:6]=[\"Fri\",'Sat']#overrides the list and adds the values shifting the values \n",
    "days_of_week"
   ]
  },
  {
   "cell_type": "code",
   "execution_count": 30,
   "id": "0fe8a61b-bf1b-4834-af08-c221359ec3a7",
   "metadata": {},
   "outputs": [
    {
     "data": {
      "text/plain": [
       "8"
      ]
     },
     "execution_count": 30,
     "metadata": {},
     "output_type": "execute_result"
    }
   ],
   "source": [
    "len(days_of_week)"
   ]
  },
  {
   "cell_type": "code",
   "execution_count": 33,
   "id": "59392642-425b-4449-b32f-a0fe5ce89f1e",
   "metadata": {},
   "outputs": [
    {
     "name": "stdout",
     "output_type": "stream",
     "text": [
      "['Sunday', 'monday', 'Fri', 'Sat', 'Sat']\n"
     ]
    },
    {
     "data": {
      "text/plain": [
       "5"
      ]
     },
     "execution_count": 33,
     "metadata": {},
     "output_type": "execute_result"
    }
   ],
   "source": [
    "days_of_week[1:3]=['monday']\n",
    "print(days_of_week)\n",
    "len(days_of_week)\n"
   ]
  },
  {
   "cell_type": "markdown",
   "id": "7fdc0827-c740-4d46-af15-4efd5d530e33",
   "metadata": {},
   "source": [
    "# INSERT METHOD \"list.insert(index,data)\"\n"
   ]
  },
  {
   "cell_type": "code",
   "execution_count": 34,
   "id": "b3bf6235-49c2-492f-9e9e-9a59ad3e02ca",
   "metadata": {},
   "outputs": [
    {
     "data": {
      "text/plain": [
       "[1, 'inserted', 2, 3]"
      ]
     },
     "execution_count": 34,
     "metadata": {},
     "output_type": "execute_result"
    }
   ],
   "source": [
    "my_list=[1,2,3]\n",
    "my_list.insert(1,\"inserted\")\n",
    "my_list"
   ]
  },
  {
   "cell_type": "code",
   "execution_count": 36,
   "id": "7eac3a55-35ac-487e-8504-9681ec762441",
   "metadata": {},
   "outputs": [
    {
     "name": "stdout",
     "output_type": "stream",
     "text": [
      "6\n"
     ]
    },
    {
     "data": {
      "text/plain": [
       "[1, 'inserted', 2, 3, 'end of list', 'end of list']"
      ]
     },
     "execution_count": 36,
     "metadata": {},
     "output_type": "execute_result"
    }
   ],
   "source": [
    "my_list.insert(4,\"end of list\")\n",
    "print(len(my_list))\n",
    "my_list"
   ]
  },
  {
   "cell_type": "code",
   "execution_count": 38,
   "id": "599a0b26-e2f5-413a-8cd6-7dd172c8847d",
   "metadata": {},
   "outputs": [
    {
     "data": {
      "text/plain": [
       "[1, 'inserted', 2, 3, 'end of list', 'end', 'end of list', 'end']"
      ]
     },
     "execution_count": 38,
     "metadata": {},
     "output_type": "execute_result"
    }
   ],
   "source": [
    "length=len(my_list)\n",
    "my_list.insert(length,\"end\")\n",
    "my_list"
   ]
  },
  {
   "cell_type": "code",
   "execution_count": 39,
   "id": "8c67c07c-f8b3-42d8-92cf-aeca6902f845",
   "metadata": {},
   "outputs": [
    {
     "data": {
      "text/plain": [
       "[1, 'inserted', 2, 3, 'end of list', 'end', 'end of list', 'data', 'end']"
      ]
     },
     "execution_count": 39,
     "metadata": {},
     "output_type": "execute_result"
    }
   ],
   "source": [
    "my_list.insert(-1,\"data\")\n",
    "my_list"
   ]
  },
  {
   "cell_type": "markdown",
   "id": "fa01c557-1b54-44a3-bf2b-d0a9a95008a0",
   "metadata": {},
   "source": [
    "# Append adds data at the end of the list"
   ]
  },
  {
   "cell_type": "code",
   "execution_count": 40,
   "id": "2354f689-ab88-4ed1-8bdc-4ef5602b2a5f",
   "metadata": {},
   "outputs": [
    {
     "data": {
      "text/plain": [
       "[1, 'inserted', 2, 3, 'end of list', 'end', 'end of list', 'data', 'end', 7]"
      ]
     },
     "execution_count": 40,
     "metadata": {},
     "output_type": "execute_result"
    }
   ],
   "source": [
    "my_list.append(length)\n",
    "my_list"
   ]
  },
  {
   "cell_type": "markdown",
   "id": "a51fade1-077d-45ae-b93c-85f6d923599d",
   "metadata": {},
   "source": [
    "# Extend to add another lit to the end of a list"
   ]
  },
  {
   "cell_type": "code",
   "execution_count": 43,
   "id": "d492dd47-2bd9-4d84-9d74-ec7848e7d4d0",
   "metadata": {},
   "outputs": [
    {
     "ename": "TypeError",
     "evalue": "'int' object is not iterable",
     "output_type": "error",
     "traceback": [
      "\u001b[1;31m---------------------------------------------------------------------------\u001b[0m",
      "\u001b[1;31mTypeError\u001b[0m                                 Traceback (most recent call last)",
      "Cell \u001b[1;32mIn[43], line 1\u001b[0m\n\u001b[1;32m----> 1\u001b[0m my_list\u001b[38;5;241m.\u001b[39mextend(\u001b[38;5;241m100\u001b[39m)\n\u001b[0;32m      2\u001b[0m my_list\n",
      "\u001b[1;31mTypeError\u001b[0m: 'int' object is not iterable"
     ]
    }
   ],
   "source": [
    "my_list.extend(100)\n",
    "my_list"
   ]
  },
  {
   "cell_type": "code",
   "execution_count": 45,
   "id": "9c96d90e-5bef-41ea-8d92-8abd0a21f504",
   "metadata": {},
   "outputs": [
    {
     "data": {
      "text/plain": [
       "[1,\n",
       " 'inserted',\n",
       " 2,\n",
       " 3,\n",
       " 'end of list',\n",
       " 'end',\n",
       " 'end of list',\n",
       " 'data',\n",
       " 'end',\n",
       " 7,\n",
       " '1',\n",
       " '0',\n",
       " '0',\n",
       " '2',\n",
       " '0',\n",
       " '0',\n",
       " '2',\n",
       " '0',\n",
       " '0']"
      ]
     },
     "execution_count": 45,
     "metadata": {},
     "output_type": "execute_result"
    }
   ],
   "source": [
    "my_list.extend(\"200\")\n",
    "my_list"
   ]
  },
  {
   "cell_type": "code",
   "execution_count": 46,
   "id": "ddde68df-3428-4e82-bcac-011ac71a71ca",
   "metadata": {},
   "outputs": [
    {
     "ename": "TypeError",
     "evalue": "list.extend() takes exactly one argument (2 given)",
     "output_type": "error",
     "traceback": [
      "\u001b[1;31m---------------------------------------------------------------------------\u001b[0m",
      "\u001b[1;31mTypeError\u001b[0m                                 Traceback (most recent call last)",
      "Cell \u001b[1;32mIn[46], line 1\u001b[0m\n\u001b[1;32m----> 1\u001b[0m my_list\u001b[38;5;241m.\u001b[39mextend(\u001b[38;5;241m100\u001b[39m,\u001b[38;5;241m200\u001b[39m)\n\u001b[0;32m      2\u001b[0m my_list\n",
      "\u001b[1;31mTypeError\u001b[0m: list.extend() takes exactly one argument (2 given)"
     ]
    }
   ],
   "source": [
    "my_list.extend(100,200)\n",
    "my_list"
   ]
  },
  {
   "cell_type": "code",
   "execution_count": 47,
   "id": "39369f97-2246-4351-9e76-21d10eaf7160",
   "metadata": {},
   "outputs": [
    {
     "data": {
      "text/plain": [
       "[1,\n",
       " 'inserted',\n",
       " 2,\n",
       " 3,\n",
       " 'end of list',\n",
       " 'end',\n",
       " 'end of list',\n",
       " 'data',\n",
       " 'end',\n",
       " 7,\n",
       " '1',\n",
       " '0',\n",
       " '0',\n",
       " '0',\n",
       " '0',\n",
       " '2',\n",
       " '0',\n",
       " '0']"
      ]
     },
     "execution_count": 47,
     "metadata": {},
     "output_type": "execute_result"
    }
   ],
   "source": [
    "my_list.remove('2')\n",
    "my_list"
   ]
  },
  {
   "cell_type": "code",
   "execution_count": 48,
   "id": "7e31ce97-cd53-4971-b213-043a0f12ef52",
   "metadata": {},
   "outputs": [
    {
     "data": {
      "text/plain": [
       "[1,\n",
       " 'inserted',\n",
       " 3,\n",
       " 'end of list',\n",
       " 'end',\n",
       " 'end of list',\n",
       " 'data',\n",
       " 'end',\n",
       " 7,\n",
       " '1',\n",
       " '0',\n",
       " '0',\n",
       " '0',\n",
       " '0',\n",
       " '2',\n",
       " '0',\n",
       " '0']"
      ]
     },
     "execution_count": 48,
     "metadata": {},
     "output_type": "execute_result"
    }
   ],
   "source": [
    "my_list.remove(2)  #Only removes the first data that matches the argument\n",
    "my_list"
   ]
  },
  {
   "cell_type": "code",
   "execution_count": 49,
   "id": "bac1f614-5187-4535-bea3-186df8f0babd",
   "metadata": {},
   "outputs": [
    {
     "data": {
      "text/plain": [
       "[1,\n",
       " 'inserted',\n",
       " 3,\n",
       " 'end of list',\n",
       " 'end',\n",
       " 'data',\n",
       " 'end',\n",
       " 7,\n",
       " '1',\n",
       " '0',\n",
       " '0',\n",
       " '0',\n",
       " '0',\n",
       " '2',\n",
       " '0',\n",
       " '0']"
      ]
     },
     "execution_count": 49,
     "metadata": {},
     "output_type": "execute_result"
    }
   ],
   "source": [
    "my_list.pop(5)  #takes index in place of value\n",
    "my_list"
   ]
  },
  {
   "cell_type": "code",
   "execution_count": 51,
   "id": "ab9d9e36-cf75-4600-9f87-0ef5f2691671",
   "metadata": {},
   "outputs": [
    {
     "data": {
      "text/plain": [
       "[1,\n",
       " 'inserted',\n",
       " 3,\n",
       " 'end of list',\n",
       " 'end',\n",
       " 'data',\n",
       " 'end',\n",
       " 7,\n",
       " '1',\n",
       " '0',\n",
       " '0',\n",
       " '0',\n",
       " '0',\n",
       " '2']"
      ]
     },
     "execution_count": 51,
     "metadata": {},
     "output_type": "execute_result"
    }
   ],
   "source": [
    "my_list.pop() #removes the last data if no index is provided\n",
    "my_list"
   ]
  },
  {
   "cell_type": "code",
   "execution_count": 52,
   "id": "7974b925-268b-48ae-b2ad-7fd2b5eb8534",
   "metadata": {},
   "outputs": [
    {
     "data": {
      "text/plain": [
       "['end', 'data', 'end', 7, '1', '0', '0', '0', '0', '2']"
      ]
     },
     "execution_count": 52,
     "metadata": {},
     "output_type": "execute_result"
    }
   ],
   "source": [
    "del my_list[0:4]\n",
    "my_list"
   ]
  },
  {
   "cell_type": "code",
   "execution_count": 53,
   "id": "c75d0957-4bdc-4fb7-bedb-445f7b06eacd",
   "metadata": {},
   "outputs": [
    {
     "ename": "TypeError",
     "evalue": "list indices must be integers or slices, not tuple",
     "output_type": "error",
     "traceback": [
      "\u001b[1;31m---------------------------------------------------------------------------\u001b[0m",
      "\u001b[1;31mTypeError\u001b[0m                                 Traceback (most recent call last)",
      "Cell \u001b[1;32mIn[53], line 1\u001b[0m\n\u001b[1;32m----> 1\u001b[0m \u001b[38;5;28;01mdel\u001b[39;00m my_list[\u001b[38;5;241m0\u001b[39m,\u001b[38;5;241m1\u001b[39m]\n\u001b[0;32m      2\u001b[0m my_list\n",
      "\u001b[1;31mTypeError\u001b[0m: list indices must be integers or slices, not tuple"
     ]
    }
   ],
   "source": [
    "del my_list[0,1]\n",
    "my_list\n"
   ]
  },
  {
   "cell_type": "code",
   "execution_count": 54,
   "id": "8bd9e80f-15c3-4b52-a755-eb47691b077e",
   "metadata": {},
   "outputs": [
    {
     "data": {
      "text/plain": [
       "[1, 2, 3]"
      ]
     },
     "execution_count": 54,
     "metadata": {},
     "output_type": "execute_result"
    }
   ],
   "source": [
    "num_list=[1,2,3]\n",
    "num_list"
   ]
  },
  {
   "cell_type": "code",
   "execution_count": 55,
   "id": "14f91498-39c4-43e4-8a4b-06954f0554a3",
   "metadata": {},
   "outputs": [
    {
     "ename": "NameError",
     "evalue": "name 'num_list' is not defined",
     "output_type": "error",
     "traceback": [
      "\u001b[1;31m---------------------------------------------------------------------------\u001b[0m",
      "\u001b[1;31mNameError\u001b[0m                                 Traceback (most recent call last)",
      "Cell \u001b[1;32mIn[55], line 2\u001b[0m\n\u001b[0;32m      1\u001b[0m \u001b[38;5;28;01mdel\u001b[39;00m num_list\n\u001b[1;32m----> 2\u001b[0m num_list\n",
      "\u001b[1;31mNameError\u001b[0m: name 'num_list' is not defined"
     ]
    }
   ],
   "source": [
    "del num_list  #no index causes the del command to delete the wole list\n",
    "num_list"
   ]
  },
  {
   "cell_type": "code",
   "execution_count": 56,
   "id": "1582f1fa-d2e1-4ad6-9e0d-6262bee9f558",
   "metadata": {},
   "outputs": [
    {
     "data": {
      "text/plain": [
       "[]"
      ]
     },
     "execution_count": 56,
     "metadata": {},
     "output_type": "execute_result"
    }
   ],
   "source": [
    "my_list.clear()  #Clears the list of data\n",
    "my_list"
   ]
  },
  {
   "cell_type": "code",
   "execution_count": 57,
   "id": "8156c9a6-4511-4cc2-a50b-bdace4b04251",
   "metadata": {},
   "outputs": [
    {
     "data": {
      "text/plain": [
       "['april', 'dec', 'jan', 'sept']"
      ]
     },
     "execution_count": 57,
     "metadata": {},
     "output_type": "execute_result"
    }
   ],
   "source": [
    "months_list=[\"jan\",\"april\",\"dec\",\"sept\"]\n",
    "months_list.sort()\n",
    "months_list"
   ]
  },
  {
   "cell_type": "code",
   "execution_count": 58,
   "id": "3d7337a2-1025-41f9-aa4d-fcaa61ab2b1e",
   "metadata": {},
   "outputs": [
    {
     "data": {
      "text/plain": [
       "[1, 4, 123, 234, 900]"
      ]
     },
     "execution_count": 58,
     "metadata": {},
     "output_type": "execute_result"
    }
   ],
   "source": [
    "years=[123,234,900,1,4]\n",
    "years.sort()\n",
    "years"
   ]
  },
  {
   "cell_type": "code",
   "execution_count": 59,
   "id": "005075ab-7e8b-43ae-8a9b-9bd6f0593596",
   "metadata": {},
   "outputs": [
    {
     "data": {
      "text/plain": [
       "[900, 234, 123, 4, 1]"
      ]
     },
     "execution_count": 59,
     "metadata": {},
     "output_type": "execute_result"
    }
   ],
   "source": [
    "years.sort(reverse=True)\n",
    "years"
   ]
  },
  {
   "cell_type": "code",
   "execution_count": 60,
   "id": "2ef51a79-81f7-4cae-b318-1fae8e42b3de",
   "metadata": {},
   "outputs": [
    {
     "data": {
      "text/plain": [
       "['Kathmandu', 'Lahor', 'chitwan', 'london', 'new york']"
      ]
     },
     "execution_count": 60,
     "metadata": {},
     "output_type": "execute_result"
    }
   ],
   "source": [
    "cities_list=[\"Kathmandu\",\"london\",\"new york\",\"chitwan\",\"Lahor\"]\n",
    "cities_list.sort()\n",
    "cities_list"
   ]
  }
 ],
 "metadata": {
  "kernelspec": {
   "display_name": "Python 3 (ipykernel)",
   "language": "python",
   "name": "python3"
  },
  "language_info": {
   "codemirror_mode": {
    "name": "ipython",
    "version": 3
   },
   "file_extension": ".py",
   "mimetype": "text/x-python",
   "name": "python",
   "nbconvert_exporter": "python",
   "pygments_lexer": "ipython3",
   "version": "3.12.4"
  }
 },
 "nbformat": 4,
 "nbformat_minor": 5
}
