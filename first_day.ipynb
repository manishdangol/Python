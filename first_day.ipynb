{
 "cells": [
  {
   "cell_type": "code",
   "execution_count": 2,
   "id": "54fa104a-e6d6-4b4c-a1a5-c7047c56411c",
   "metadata": {},
   "outputs": [
    {
     "name": "stdout",
     "output_type": "stream",
     "text": [
      "Hello World!\n"
     ]
    }
   ],
   "source": [
    "print(\"Hello World!\")"
   ]
  },
  {
   "cell_type": "code",
   "execution_count": 10,
   "id": "2d292b7f-461d-4950-ab13-46701f08be37",
   "metadata": {},
   "outputs": [
    {
     "name": "stdout",
     "output_type": "stream",
     "text": [
      "<class 'dict'>\n",
      "{'name': 'Manish Dangol', 'age': 40}\n"
     ]
    }
   ],
   "source": [
    "my_info={\"name\":\"Manish Dangol\",\"age\":40}\n",
    "print(type(my_info))\n",
    "print(my_info)\n"
   ]
  },
  {
   "cell_type": "code",
   "execution_count": 12,
   "id": "5be9e424-987b-4f1c-b61b-55ca06a896d6",
   "metadata": {},
   "outputs": [
    {
     "name": "stdout",
     "output_type": "stream",
     "text": [
      "3\n",
      "int_var is a  <class 'int'>\n"
     ]
    }
   ],
   "source": [
    "int_var=int(3.14)\n",
    "print(int_var)\n",
    "print('int_var is a ',type(int_var))"
   ]
  },
  {
   "cell_type": "raw",
   "id": "a3645447-d937-432b-b923-7368bc7a06ec",
   "metadata": {},
   "source": [
    "var1=10\n",
    "print(var1)"
   ]
  },
  {
   "cell_type": "code",
   "execution_count": 13,
   "id": "61b095e8-a296-4376-8175-4a8c57849513",
   "metadata": {},
   "outputs": [
    {
     "name": "stdout",
     "output_type": "stream",
     "text": [
      "10\n"
     ]
    }
   ],
   "source": [
    "var1=10\n",
    "print(var1)"
   ]
  },
  {
   "cell_type": "code",
   "execution_count": 16,
   "id": "8048fff4-c153-4f17-a4b1-586ef385ad57",
   "metadata": {},
   "outputs": [
    {
     "name": "stdout",
     "output_type": "stream",
     "text": [
      "10\n",
      "20\n",
      "30\n"
     ]
    }
   ],
   "source": [
    "var1=10\n",
    "print(var1)\n",
    "var2=20\n",
    "print(var2)\n",
    "sum=var1+var2\n",
    "print(sum)"
   ]
  },
  {
   "cell_type": "code",
   "execution_count": 18,
   "id": "27f2af3b-eec5-4e6e-a01f-f2c8adf257ef",
   "metadata": {},
   "outputs": [
    {
     "name": "stdin",
     "output_type": "stream",
     "text": [
      "A= 2\n",
      "B= 1\n"
     ]
    },
    {
     "name": "stdout",
     "output_type": "stream",
     "text": [
      "sum=  3\n"
     ]
    }
   ],
   "source": [
    "var1=input(\"A=\")\n",
    "var2=input(\"B=\")\n",
    "print(\"sum= \",int(var1)+int(var2))"
   ]
  }
 ],
 "metadata": {
  "kernelspec": {
   "display_name": "Python 3 (ipykernel)",
   "language": "python",
   "name": "python3"
  },
  "language_info": {
   "codemirror_mode": {
    "name": "ipython",
    "version": 3
   },
   "file_extension": ".py",
   "mimetype": "text/x-python",
   "name": "python",
   "nbconvert_exporter": "python",
   "pygments_lexer": "ipython3",
   "version": "3.12.4"
  }
 },
 "nbformat": 4,
 "nbformat_minor": 5
}
