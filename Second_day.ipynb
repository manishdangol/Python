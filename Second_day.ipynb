{
 "cells": [
  {
   "cell_type": "code",
   "execution_count": 1,
   "id": "78457f21-9962-4d93-a119-50a60ca991d7",
   "metadata": {},
   "outputs": [
    {
     "name": "stdout",
     "output_type": "stream",
     "text": [
      "5\n"
     ]
    }
   ],
   "source": [
    "a=2+3\n",
    "print(a)"
   ]
  },
  {
   "cell_type": "markdown",
   "id": "acea6dff-091e-4422-85ff-d0571bfc62ff",
   "metadata": {},
   "source": [
    "# Day_2\n"
   ]
  },
  {
   "cell_type": "code",
   "execution_count": 9,
   "id": "51192fcf-d64b-42b5-8996-76f4b192e64c",
   "metadata": {},
   "outputs": [
    {
     "name": "stdout",
     "output_type": "stream",
     "text": [
      "8\n"
     ]
    }
   ],
   "source": [
    "a=8%16 #modulus division gives the remainder 8 divided by 16\n",
    "print(a)"
   ]
  },
  {
   "cell_type": "code",
   "execution_count": 11,
   "id": "63d7e17b-a10b-4746-b63e-bcfaa017432f",
   "metadata": {},
   "outputs": [
    {
     "name": "stdout",
     "output_type": "stream",
     "text": [
      "8\n"
     ]
    }
   ],
   "source": [
    "a=2**3 # for exponenial or power\n",
    "print(a)"
   ]
  },
  {
   "cell_type": "code",
   "execution_count": 15,
   "id": "82adfa71-2c38-4dd1-8516-9e71375aa18f",
   "metadata": {},
   "outputs": [
    {
     "name": "stdout",
     "output_type": "stream",
     "text": [
      "1\n",
      "1.2\n"
     ]
    }
   ],
   "source": [
    "a=6//5 #floor division\n",
    "b=6/5\n",
    "print(a)\n",
    "print(b)"
   ]
  },
  {
   "cell_type": "code",
   "execution_count": 18,
   "id": "20f8d321-2c83-4f93-bd5f-60f9b4f1b524",
   "metadata": {},
   "outputs": [
    {
     "name": "stdout",
     "output_type": "stream",
     "text": [
      "8.166666666666666\n"
     ]
    }
   ],
   "source": [
    "x=7*(3+8-4)/6\n",
    "\n",
    "print(x)"
   ]
  },
  {
   "cell_type": "code",
   "execution_count": 28,
   "id": "251d78e5-33c1-4c51-b0e4-e534b3cb48f8",
   "metadata": {},
   "outputs": [
    {
     "name": "stdout",
     "output_type": "stream",
     "text": [
      "2\n"
     ]
    }
   ],
   "source": [
    "y=2%int(x)\n",
    "print(y)"
   ]
  },
  {
   "cell_type": "code",
   "execution_count": 26,
   "id": "5d89341f-95a4-4503-afec-193823cf8300",
   "metadata": {},
   "outputs": [
    {
     "name": "stdout",
     "output_type": "stream",
     "text": [
      "8\n"
     ]
    }
   ],
   "source": [
    "z=y**3\n",
    "print(z) "
   ]
  },
  {
   "cell_type": "code",
   "execution_count": 27,
   "id": "f270559d-1a22-4ab0-89e7-871a5eb5fe76",
   "metadata": {},
   "outputs": [
    {
     "name": "stdout",
     "output_type": "stream",
     "text": [
      "2\n"
     ]
    }
   ],
   "source": [
    "k=z//3\n",
    "print(k)"
   ]
  },
  {
   "cell_type": "code",
   "execution_count": 32,
   "id": "2f9d1246-9cbd-4422-890a-9a39a58ab681",
   "metadata": {},
   "outputs": [
    {
     "name": "stdout",
     "output_type": "stream",
     "text": [
      "5\n",
      "8\n",
      "4.0\n",
      "0.0\n",
      "-2.0\n",
      "16.0\n"
     ]
    }
   ],
   "source": [
    "x=5\n",
    "print(x)\n",
    "x+=3\n",
    "print(x)\n",
    "x/=2\n",
    "print(x)\n",
    "x%=2\n",
    "print(x)\n",
    "x-=2\n",
    "print(x)\n",
    "x**=4\n",
    "print(x)"
   ]
  },
  {
   "cell_type": "code",
   "execution_count": 33,
   "id": "db83ba7c-89b1-4807-8104-82aa0bd63049",
   "metadata": {},
   "outputs": [
    {
     "data": {
      "text/plain": [
       "True"
      ]
     },
     "execution_count": 33,
     "metadata": {},
     "output_type": "execute_result"
    }
   ],
   "source": [
    "x==16\n"
   ]
  },
  {
   "cell_type": "code",
   "execution_count": 34,
   "id": "cfd58e0b-2295-4305-9f74-1c73c6ba44a2",
   "metadata": {},
   "outputs": [
    {
     "data": {
      "text/plain": [
       "True"
      ]
     },
     "execution_count": 34,
     "metadata": {},
     "output_type": "execute_result"
    }
   ],
   "source": [
    "x!=2"
   ]
  },
  {
   "cell_type": "code",
   "execution_count": 36,
   "id": "22899eb0-66ee-4eaa-8d54-676728775739",
   "metadata": {},
   "outputs": [
    {
     "data": {
      "text/plain": [
       "False"
      ]
     },
     "execution_count": 36,
     "metadata": {},
     "output_type": "execute_result"
    }
   ],
   "source": [
    "x>=30"
   ]
  },
  {
   "cell_type": "code",
   "execution_count": 37,
   "id": "a056f68c-04ae-403b-ae36-90064a050823",
   "metadata": {},
   "outputs": [
    {
     "data": {
      "text/plain": [
       "True"
      ]
     },
     "execution_count": 37,
     "metadata": {},
     "output_type": "execute_result"
    }
   ],
   "source": [
    "a=3\n",
    "b=5\n",
    "a>2 and b>2"
   ]
  },
  {
   "cell_type": "code",
   "execution_count": 40,
   "id": "cc8a380b-3d66-4313-b0d2-d92383e5b58a",
   "metadata": {},
   "outputs": [
    {
     "data": {
      "text/plain": [
       "True"
      ]
     },
     "execution_count": 40,
     "metadata": {},
     "output_type": "execute_result"
    }
   ],
   "source": [
    "a<5 or b<4"
   ]
  },
  {
   "cell_type": "code",
   "execution_count": 41,
   "id": "d757ad1f-f5ef-4f8f-a4ea-1022eff9c3c1",
   "metadata": {},
   "outputs": [
    {
     "ename": "SyntaxError",
     "evalue": "invalid syntax (2374815841.py, line 1)",
     "output_type": "error",
     "traceback": [
      "\u001b[1;36m  Cell \u001b[1;32mIn[41], line 1\u001b[1;36m\u001b[0m\n\u001b[1;33m    a not\u001b[0m\n\u001b[1;37m          ^\u001b[0m\n\u001b[1;31mSyntaxError\u001b[0m\u001b[1;31m:\u001b[0m invalid syntax\n"
     ]
    }
   ],
   "source": [
    "a not "
   ]
  },
  {
   "cell_type": "code",
   "execution_count": 42,
   "id": "222aefe3-1a6a-4524-aee8-30b1f04c363b",
   "metadata": {},
   "outputs": [
    {
     "ename": "SyntaxError",
     "evalue": "invalid syntax (600218652.py, line 1)",
     "output_type": "error",
     "traceback": [
      "\u001b[1;36m  Cell \u001b[1;32mIn[42], line 1\u001b[1;36m\u001b[0m\n\u001b[1;33m    a not b\u001b[0m\n\u001b[1;37m          ^\u001b[0m\n\u001b[1;31mSyntaxError\u001b[0m\u001b[1;31m:\u001b[0m invalid syntax\n"
     ]
    }
   ],
   "source": [
    "a not b"
   ]
  },
  {
   "cell_type": "code",
   "execution_count": 43,
   "id": "2de8e91e-1898-40b8-bd89-dade92094e8c",
   "metadata": {},
   "outputs": [
    {
     "data": {
      "text/plain": [
       "True"
      ]
     },
     "execution_count": 43,
     "metadata": {},
     "output_type": "execute_result"
    }
   ],
   "source": [
    "not a<2"
   ]
  },
  {
   "cell_type": "code",
   "execution_count": 44,
   "id": "deec11f2-d59d-4a5a-8816-9dad8bf8ce43",
   "metadata": {},
   "outputs": [
    {
     "data": {
      "text/plain": [
       "False"
      ]
     },
     "execution_count": 44,
     "metadata": {},
     "output_type": "execute_result"
    }
   ],
   "source": [
    "#' ' empty sting is boole for false\n",
    "' ' and b<3"
   ]
  },
  {
   "cell_type": "code",
   "execution_count": 45,
   "id": "d39dbba2-6526-44a7-85ba-aeeacf0e751f",
   "metadata": {},
   "outputs": [
    {
     "data": {
      "text/plain": [
       "' '"
      ]
     },
     "execution_count": 45,
     "metadata": {},
     "output_type": "execute_result"
    }
   ],
   "source": [
    "' ' or whatever"
   ]
  },
  {
   "cell_type": "code",
   "execution_count": 46,
   "id": "67080ea0-450b-4d32-9d1c-ca2d2d14880d",
   "metadata": {},
   "outputs": [
    {
     "data": {
      "text/plain": [
       "[]"
      ]
     },
     "execution_count": 46,
     "metadata": {},
     "output_type": "execute_result"
    }
   ],
   "source": [
    "[] and whatever  #empty list, tuple and set is boolen for false"
   ]
  },
  {
   "cell_type": "code",
   "execution_count": 47,
   "id": "0b75da33-d4e3-4297-a977-a4813ad46c72",
   "metadata": {},
   "outputs": [
    {
     "data": {
      "text/plain": [
       "'a'"
      ]
     },
     "execution_count": 47,
     "metadata": {},
     "output_type": "execute_result"
    }
   ],
   "source": [
    "'a' or whatever"
   ]
  },
  {
   "cell_type": "code",
   "execution_count": 52,
   "id": "215e59b2-9764-45ef-ae3c-4d1bdf397294",
   "metadata": {},
   "outputs": [
    {
     "data": {
      "text/plain": [
       "False"
      ]
     },
     "execution_count": 52,
     "metadata": {},
     "output_type": "execute_result"
    }
   ],
   "source": [
    "#1. not\n",
    "#2. and\n",
    "#3. or'\n",
    "\n",
    "False or True and not True"
   ]
  },
  {
   "cell_type": "code",
   "execution_count": 54,
   "id": "8a6562b6-a967-4570-88dc-e7c451f8dc24",
   "metadata": {},
   "outputs": [
    {
     "data": {
      "text/plain": [
       "False"
      ]
     },
     "execution_count": 54,
     "metadata": {},
     "output_type": "execute_result"
    }
   ],
   "source": [
    "# Identity Operator: used to determine whether a value is of a certain class or type. \"is\" keywoard\n",
    "\n",
    "type(a) is int\n",
    "type(a) is float"
   ]
  },
  {
   "cell_type": "code",
   "execution_count": 55,
   "id": "0aa8ee0f-316b-42f6-9bcd-6964b58892c8",
   "metadata": {},
   "outputs": [
    {
     "data": {
      "text/plain": [
       "True"
      ]
     },
     "execution_count": 55,
     "metadata": {},
     "output_type": "execute_result"
    }
   ],
   "source": [
    "# Membership Operator: \"in\" keywoard.\n",
    "\n",
    "'h' in 'hello'"
   ]
  },
  {
   "cell_type": "code",
   "execution_count": 56,
   "id": "20c23b82-5abd-497c-b673-aefa7896c1ac",
   "metadata": {},
   "outputs": [
    {
     "data": {
      "text/plain": [
       "False"
      ]
     },
     "execution_count": 56,
     "metadata": {},
     "output_type": "execute_result"
    }
   ],
   "source": [
    "\"elo\" in \"hello\""
   ]
  },
  {
   "cell_type": "code",
   "execution_count": 60,
   "id": "c0de5f73-aaa5-4d8d-85b2-21dbe86b382c",
   "metadata": {},
   "outputs": [
    {
     "name": "stdout",
     "output_type": "stream",
     "text": [
      "2\n",
      "0\n",
      "3\n"
     ]
    }
   ],
   "source": [
    "#Bitwise Operators\n",
    "# and (&)\n",
    "print(2&3)\n",
    "#2=10\n",
    "#3=11\n",
    "#2&3=>10&11=>10=>2 in decimal\n",
    "\n",
    "print(4&3)\n",
    "\n",
    "print(2 and 3) #wrong operation"
   ]
  },
  {
   "cell_type": "code",
   "execution_count": null,
   "id": "737ea66a-c3ef-433e-a902-b89ca7285f6d",
   "metadata": {},
   "outputs": [],
   "source": [
    "#OR (|)\n"
   ]
  },
  {
   "cell_type": "code",
   "execution_count": 63,
   "id": "8d024a5a-9a6c-4e78-837b-1bc808688363",
   "metadata": {
    "scrolled": true
   },
   "outputs": [
    {
     "name": "stdout",
     "output_type": "stream",
     "text": [
      "['Sunday', 'monday', 'tuesday', 'wednesday', 'thursday', 'friday', 'saturday']\n",
      "['Sunday', 'monday', 'tuesday', 'wednesday', 'thursday', 'friday', 'saturday']\n",
      "7\n"
     ]
    }
   ],
   "source": [
    "#Python List\n",
    "#stores multiple values in a variable\n",
    "\n",
    "days_in_weak=['Sunday','monday','tuesday','wednesday','thursday','friday','saturday']\n",
    "\n",
    "print(days_in_weak)\n",
    "\n",
    "print(days_in_weak)\n",
    "\n",
    "print(len(days_in_weak))"
   ]
  },
  {
   "cell_type": "code",
   "execution_count": 66,
   "id": "7908cd13-02f4-4127-9470-b03d0f5ec143",
   "metadata": {},
   "outputs": [
    {
     "name": "stdout",
     "output_type": "stream",
     "text": [
      "tuesday\n"
     ]
    },
    {
     "data": {
      "text/plain": [
       "False"
      ]
     },
     "execution_count": 66,
     "metadata": {},
     "output_type": "execute_result"
    }
   ],
   "source": [
    "print(days_in_weak[2])\n",
    "\n",
    "day3=days_in_weak[0]\n",
    "\n",
    "day3=='tuesday'"
   ]
  }
 ],
 "metadata": {
  "kernelspec": {
   "display_name": "Python 3 (ipykernel)",
   "language": "python",
   "name": "python3"
  },
  "language_info": {
   "codemirror_mode": {
    "name": "ipython",
    "version": 3
   },
   "file_extension": ".py",
   "mimetype": "text/x-python",
   "name": "python",
   "nbconvert_exporter": "python",
   "pygments_lexer": "ipython3",
   "version": "3.12.4"
  }
 },
 "nbformat": 4,
 "nbformat_minor": 5
}
