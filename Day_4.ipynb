{
 "cells": [
  {
   "cell_type": "code",
   "execution_count": 2,
   "id": "8e20c3b5-7203-4109-94c6-787b948cc2d6",
   "metadata": {},
   "outputs": [
    {
     "data": {
      "text/plain": [
       "['chicago', 'Kathmandu', 'Lahore', 'london', 'new york']"
      ]
     },
     "execution_count": 2,
     "metadata": {},
     "output_type": "execute_result"
    }
   ],
   "source": [
    "cities_list=[\"Kathmandu\",\"london\",\"chicago\",\"new york\",\"Lahore\"]\n",
    "cities_list.sort(key=str.lower)\n",
    "cities_list"
   ]
  },
  {
   "cell_type": "code",
   "execution_count": 6,
   "id": "e152980f-cfe7-4fd8-b742-8f49cde169b9",
   "metadata": {},
   "outputs": [
    {
     "data": {
      "text/plain": [
       "['Kathmandu', 'Lahore', 'chicago', 'london', 'new york']"
      ]
     },
     "execution_count": 6,
     "metadata": {},
     "output_type": "execute_result"
    }
   ],
   "source": [
    "cities_list.sort()\n",
    "cities_list "
   ]
  },
  {
   "cell_type": "code",
   "execution_count": 7,
   "id": "c89b1bca-c487-4084-8b2a-df9209efae46",
   "metadata": {},
   "outputs": [
    {
     "data": {
      "text/plain": [
       "['new york', 'london', 'chicago', 'Lahore', 'Kathmandu']"
      ]
     },
     "execution_count": 7,
     "metadata": {},
     "output_type": "execute_result"
    }
   ],
   "source": [
    "cities_list.sort(reverse=True)\n",
    "cities_list"
   ]
  },
  {
   "cell_type": "code",
   "execution_count": 9,
   "id": "3882d439-729f-47ed-90ff-bfd0dbbce3c0",
   "metadata": {},
   "outputs": [
    {
     "data": {
      "text/plain": [
       "['new york', 'london', 'Lahore', 'Kathmandu', 'chicago']"
      ]
     },
     "execution_count": 9,
     "metadata": {},
     "output_type": "execute_result"
    }
   ],
   "source": [
    "cities_list.sort(reverse=True,key=str.lower)\n",
    "cities_list"
   ]
  },
  {
   "cell_type": "code",
   "execution_count": 10,
   "id": "859905cb-b72b-43b2-b1bb-bcb90eaa2ddd",
   "metadata": {},
   "outputs": [
    {
     "ename": "TypeError",
     "evalue": "list.reverse() takes no keyword arguments",
     "output_type": "error",
     "traceback": [
      "\u001b[1;31m---------------------------------------------------------------------------\u001b[0m",
      "\u001b[1;31mTypeError\u001b[0m                                 Traceback (most recent call last)",
      "Cell \u001b[1;32mIn[10], line 1\u001b[0m\n\u001b[1;32m----> 1\u001b[0m cities_list\u001b[38;5;241m.\u001b[39mreverse(key\u001b[38;5;241m=\u001b[39m\u001b[38;5;28mstr\u001b[39m\u001b[38;5;241m.\u001b[39mlower)\n\u001b[0;32m      2\u001b[0m cities_list\n",
      "\u001b[1;31mTypeError\u001b[0m: list.reverse() takes no keyword arguments"
     ]
    }
   ],
   "source": [
    "cities_list.reverse(key=str.lower)\n",
    "cities_list"
   ]
  },
  {
   "cell_type": "code",
   "execution_count": 11,
   "id": "0c241f52-219f-4af8-98f7-8b62d47d5708",
   "metadata": {},
   "outputs": [
    {
     "data": {
      "text/plain": [
       "['chicago', 'Kathmandu', 'Lahore', 'london', 'new york']"
      ]
     },
     "execution_count": 11,
     "metadata": {},
     "output_type": "execute_result"
    }
   ],
   "source": [
    "cities_list.reverse()\n",
    "cities_list"
   ]
  },
  {
   "cell_type": "code",
   "execution_count": 14,
   "id": "9f5dff24-d21f-4fd0-b5db-e777a45d0720",
   "metadata": {},
   "outputs": [
    {
     "data": {
      "text/plain": [
       "['chicago',\n",
       " 'Kathmandu',\n",
       " 'Lahore',\n",
       " 'london',\n",
       " 'new york',\n",
       " 'Nepal',\n",
       " 'England',\n",
       " 'India',\n",
       " 'USA']"
      ]
     },
     "execution_count": 14,
     "metadata": {},
     "output_type": "execute_result"
    }
   ],
   "source": [
    "country_list=[\"Nepal\",\"England\",\"India\",\"USA\"]\n",
    "list_3=cities_list+country_list #Use \"+\" sign to combine two lists into a new list\n",
    "list_3"
   ]
  },
  {
   "cell_type": "code",
   "execution_count": 15,
   "id": "fa04fa54-64c9-472c-8a5e-b5c614dd38a4",
   "metadata": {},
   "outputs": [
    {
     "data": {
      "text/plain": [
       "['chicago',\n",
       " 'Kathmandu',\n",
       " 'Lahore',\n",
       " 'london',\n",
       " 'new york',\n",
       " 'Nepal',\n",
       " 'England',\n",
       " 'India',\n",
       " 'USA']"
      ]
     },
     "execution_count": 15,
     "metadata": {},
     "output_type": "execute_result"
    }
   ],
   "source": [
    "#.extend method to update list \"+\" sign to create new list\n",
    "cities_list.extend(country_list)\n",
    "cities_list"
   ]
  },
  {
   "cell_type": "markdown",
   "id": "886527a9-f452-49e3-a872-631bbf3af18a",
   "metadata": {},
   "source": [
    "# IF Statement"
   ]
  },
  {
   "cell_type": "code",
   "execution_count": 17,
   "id": "9fcf7090-65e5-4c94-b481-18ff90cceb6b",
   "metadata": {},
   "outputs": [
    {
     "name": "stdout",
     "output_type": "stream",
     "text": [
      "x is greater than 5\n"
     ]
    }
   ],
   "source": [
    "x=7\n",
    "if x>5: #python separates blocks of code with indents or spacing\n",
    "    print(\"x is greater than 5\")"
   ]
  },
  {
   "cell_type": "code",
   "execution_count": 22,
   "id": "d621e48f-9619-4f9b-b54a-1f0911e10764",
   "metadata": {},
   "outputs": [
    {
     "name": "stdout",
     "output_type": "stream",
     "text": [
      "x is less than 8\n"
     ]
    }
   ],
   "source": [
    "if x>8:\n",
    "    print(\"x is more than 8\")\n",
    "else:\n",
    "    print(\"x is less than 8\")"
   ]
  },
  {
   "cell_type": "code",
   "execution_count": 25,
   "id": "2883bf17-78a3-4407-883a-09d6d9db6952",
   "metadata": {},
   "outputs": [
    {
     "name": "stdout",
     "output_type": "stream",
     "text": [
      "x is more than 4\n"
     ]
    }
   ],
   "source": [
    "x=5\n",
    "if x>6:\n",
    "    print(\"x is more than 6\")\n",
    "elif x>4:\n",
    "    print(\"x is more than 4\")"
   ]
  },
  {
   "cell_type": "code",
   "execution_count": 26,
   "id": "50584e2c-1dfb-46c4-8ae0-9e229b758efe",
   "metadata": {},
   "outputs": [
    {
     "name": "stdout",
     "output_type": "stream",
     "text": [
      " x is 5\n"
     ]
    }
   ],
   "source": [
    "x=5\n",
    "if x>6:\n",
    "    print(\"x is more than 6\")\n",
    "elif x<4:\n",
    "    print(\"x is more than 4\")\n",
    "else:\n",
    "    print(\" x is 5\")"
   ]
  },
  {
   "cell_type": "code",
   "execution_count": 29,
   "id": "07559668-d824-40c5-b614-b63dd119b4df",
   "metadata": {},
   "outputs": [
    {
     "name": "stdout",
     "output_type": "stream",
     "text": [
      "x=3\n"
     ]
    }
   ],
   "source": [
    "x=3\n",
    "if x==3: print(\"x=3\")"
   ]
  },
  {
   "cell_type": "code",
   "execution_count": 30,
   "id": "a8aa9467-77e7-4381-8713-da5a2fb9a14b",
   "metadata": {},
   "outputs": [
    {
     "name": "stdout",
     "output_type": "stream",
     "text": [
      "x=2\n"
     ]
    }
   ],
   "source": [
    "x=2\n",
    "print(\"x=2\") if x==2 else print(\"x is not equal to 2\")"
   ]
  },
  {
   "cell_type": "code",
   "execution_count": 31,
   "id": "6488fba7-0927-43a7-a8ec-d51349dfc5c5",
   "metadata": {},
   "outputs": [
    {
     "name": "stdout",
     "output_type": "stream",
     "text": [
      "x is not equal to 2\n"
     ]
    }
   ],
   "source": [
    "x=3\n",
    "print(\"x=2\") if x==2 else print(\"x is not equal to 2\")"
   ]
  },
  {
   "cell_type": "code",
   "execution_count": 32,
   "id": "d6effe39-f88a-4e5b-b9c9-cffe48da21e6",
   "metadata": {},
   "outputs": [
    {
     "name": "stdout",
     "output_type": "stream",
     "text": [
      "x<4\n",
      "x>2\n"
     ]
    }
   ],
   "source": [
    "if x<4:\n",
    "    print(\"x<4\")\n",
    "    if x>2:\n",
    "        print(\"x>2\")\n",
    "    else:\n",
    "        print(\"x=3\")"
   ]
  },
  {
   "cell_type": "code",
   "execution_count": 45,
   "id": "3a7de251-2a98-48cc-9f82-8e098b49bce5",
   "metadata": {},
   "outputs": [
    {
     "name": "stdin",
     "output_type": "stream",
     "text": [
      "Age= 90\n"
     ]
    },
    {
     "name": "stdout",
     "output_type": "stream",
     "text": [
      "Can Vote\n"
     ]
    }
   ],
   "source": [
    "try:\n",
    "    age=int(input(\"Age=\"))\n",
    "    if age<18:\n",
    "       print(\"Cannot vote\")\n",
    "    elif age>18:\n",
    "        print(\"Can Vote\")\n",
    "    else:\n",
    "        print(\"Get Citizenship\")\n",
    "except:\n",
    "    print(\"ERROR!! Please enter a number!\")"
   ]
  },
  {
   "cell_type": "code",
   "execution_count": 47,
   "id": "a5ec14c6-82e9-4ca8-8ce6-22883fd6756f",
   "metadata": {},
   "outputs": [
    {
     "name": "stdout",
     "output_type": "stream",
     "text": [
      "0\n",
      "1\n",
      "2\n",
      "3\n",
      "4\n",
      "5\n"
     ]
    }
   ],
   "source": [
    "x=0\n",
    "while x<=5:\n",
    "    print(x)\n",
    "    x+=1"
   ]
  },
  {
   "cell_type": "code",
   "execution_count": 49,
   "id": "5f4ef7af-1439-496d-96ef-10d0df93c7b5",
   "metadata": {},
   "outputs": [
    {
     "name": "stdin",
     "output_type": "stream",
     "text": [
      "age= w\n"
     ]
    },
    {
     "name": "stdout",
     "output_type": "stream",
     "text": [
      "W\n"
     ]
    }
   ],
   "source": [
    "age=input(\"age=\")\n",
    "if type(age)==int:\n",
    "    print(\"a\")\n",
    "else:\n",
    "    print(\"W\")"
   ]
  },
  {
   "cell_type": "code",
   "execution_count": 54,
   "id": "e90b94da-95b3-49f2-b952-047c73b6808b",
   "metadata": {},
   "outputs": [
    {
     "name": "stdout",
     "output_type": "stream",
     "text": [
      "0\n",
      "1\n",
      "2\n",
      "3\n"
     ]
    }
   ],
   "source": [
    "x=0\n",
    "while x<6:\n",
    "    print(x)\n",
    "    x+=1\n",
    "    if x==4:\n",
    "       break"
   ]
  },
  {
   "cell_type": "code",
   "execution_count": 58,
   "id": "e6d9acf4-032f-4646-bda3-00d830c6331d",
   "metadata": {},
   "outputs": [
    {
     "name": "stdout",
     "output_type": "stream",
     "text": [
      "4\n",
      "5\n",
      "6\n",
      "7\n",
      "8\n",
      "9\n",
      "10\n"
     ]
    }
   ],
   "source": [
    "x=0\n",
    "while x<10:\n",
    "    x+=1\n",
    "    if x<4:\n",
    "       continue\n",
    "    print(x)"
   ]
  }
 ],
 "metadata": {
  "kernelspec": {
   "display_name": "Python 3 (ipykernel)",
   "language": "python",
   "name": "python3"
  },
  "language_info": {
   "codemirror_mode": {
    "name": "ipython",
    "version": 3
   },
   "file_extension": ".py",
   "mimetype": "text/x-python",
   "name": "python",
   "nbconvert_exporter": "python",
   "pygments_lexer": "ipython3",
   "version": "3.12.4"
  }
 },
 "nbformat": 4,
 "nbformat_minor": 5
}
